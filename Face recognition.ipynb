{
 "cells": [
  {
   "cell_type": "code",
   "execution_count": 1,
   "metadata": {
    "collapsed": false
   },
   "outputs": [],
   "source": [
    "import scipy.ndimage\n",
    "import numpy as np\n",
    "dataMatrix = [0] * 10304\n",
    "for i in range(40):\n",
    "    for j in range(10):\n",
    "        imageMatrix = scipy.ndimage.imread('E:/TERM/TERM8/Pattern Recognition/Assignments/Assignments1/orl_faces/s' + str(i+1)+'/' +\n",
    "                                 str(j+1) +'.pgm',flatten=False, mode=None)\n",
    "        imagePixelsVector = np.asarray(imageMatrix).reshape(-1)\n",
    "        dataMatrix = np.vstack([dataMatrix, imagePixelsVector])"
   ]
  },
  {
   "cell_type": "code",
   "execution_count": 2,
   "metadata": {
    "collapsed": false
   },
   "outputs": [
    {
     "name": "stdout",
     "output_type": "stream",
     "text": [
      "400\n"
     ]
    }
   ],
   "source": [
    "#dataMatrix = dataMatrix[1:,0:]\n",
    "#print(len(dataMatrix[:,0]))"
   ]
  },
  {
   "cell_type": "code",
   "execution_count": 3,
   "metadata": {
    "collapsed": false
   },
   "outputs": [
    {
     "data": {
      "text/plain": [
       "array([[ 48,  49,  45, ...,  47,  46,  46],\n",
       "       [ 60,  60,  62, ...,  32,  34,  34],\n",
       "       [ 39,  44,  53, ...,  29,  26,  29],\n",
       "       ..., \n",
       "       [125, 119, 124, ...,  36,  39,  40],\n",
       "       [119, 120, 120, ...,  89,  94,  85],\n",
       "       [125, 124, 124, ...,  36,  35,  34]])"
      ]
     },
     "execution_count": 3,
     "metadata": {},
     "output_type": "execute_result"
    }
   ],
   "source": [
    "dataMatrix"
   ]
  },
  {
   "cell_type": "code",
   "execution_count": 4,
   "metadata": {
    "collapsed": false
   },
   "outputs": [
    {
     "name": "stdout",
     "output_type": "stream",
     "text": [
      "400\n"
     ]
    }
   ],
   "source": [
    "labelVector = []\n",
    "for i in range(40):\n",
    "    for j in range (10):\n",
    "        labelVector.append(i+1)\n",
    "print(len(labelVector))"
   ]
  },
  {
   "cell_type": "code",
   "execution_count": 101,
   "metadata": {
    "collapsed": false
   },
   "outputs": [],
   "source": [
    "trainingData = dataMatrix[0]\n",
    "testData = dataMatrix[1]\n",
    "trainingDataLabelVector = []\n",
    "testDataLabelVector = []\n",
    "\n",
    "trainingDataLabelVector.append(labelVector[0])\n",
    "testDataLabelVector.append(labelVector[1])\n",
    "index = 2 \n",
    "while(index < 400):\n",
    "    if(index % 2 == 0):\n",
    "        trainingData = np.vstack([trainingData, dataMatrix[index]])\n",
    "        trainingDataLabelVector.append(labelVector[index])\n",
    "    else:\n",
    "         testData = np.vstack([testData, dataMatrix[index]])\n",
    "         testDataLabelVector.append(labelVector[index])\n",
    "    index += 1"
   ]
  },
  {
   "cell_type": "code",
   "execution_count": 6,
   "metadata": {
    "collapsed": false
   },
   "outputs": [
    {
     "data": {
      "text/plain": [
       "array([[ 48,  49,  45, ...,  47,  46,  46],\n",
       "       [ 39,  44,  53, ...,  29,  26,  29],\n",
       "       [ 64,  76,  80, ...,  35,  37,  39],\n",
       "       ..., \n",
       "       [128, 125, 125, ...,  85,  90,  84],\n",
       "       [129, 127, 133, ...,  93,  93,  93],\n",
       "       [119, 120, 120, ...,  89,  94,  85]])"
      ]
     },
     "execution_count": 6,
     "metadata": {},
     "output_type": "execute_result"
    }
   ],
   "source": [
    "trainingData"
   ]
  },
  {
   "cell_type": "code",
   "execution_count": 14,
   "metadata": {
    "collapsed": false
   },
   "outputs": [
    {
     "data": {
      "text/plain": [
       "array([ 86.115,  86.265,  86.685, ...,  76.5  ,  77.395,  77.085])"
      ]
     },
     "execution_count": 14,
     "metadata": {},
     "output_type": "execute_result"
    }
   ],
   "source": [
    "meanVector = np.mean(trainingData,axis=0)\n",
    "meanVector\n",
    "#print(len(meanVector))"
   ]
  },
  {
   "cell_type": "code",
   "execution_count": 15,
   "metadata": {
    "collapsed": false
   },
   "outputs": [
    {
     "data": {
      "text/plain": [
       "array([[-38.115, -37.265, -41.685, ..., -29.5  , -31.395, -31.085],\n",
       "       [-47.115, -42.265, -33.685, ..., -47.5  , -51.395, -48.085],\n",
       "       [-22.115, -10.265,  -6.685, ..., -41.5  , -40.395, -38.085],\n",
       "       ..., \n",
       "       [ 41.885,  38.735,  38.315, ...,   8.5  ,  12.605,   6.915],\n",
       "       [ 42.885,  40.735,  46.315, ...,  16.5  ,  15.605,  15.915],\n",
       "       [ 32.885,  33.735,  33.315, ...,  12.5  ,  16.605,   7.915]])"
      ]
     },
     "execution_count": 15,
     "metadata": {},
     "output_type": "execute_result"
    }
   ],
   "source": [
    "centeredTrainingData = trainingData - meanVector\n",
    "centeredTrainingData"
   ]
  },
  {
   "cell_type": "code",
   "execution_count": 17,
   "metadata": {
    "collapsed": false
   },
   "outputs": [
    {
     "data": {
      "text/plain": [
       "array([[ 1241.511775,  1237.489525,  1220.456225, ...,   -69.8075  ,\n",
       "          -99.755425,   -43.884775],\n",
       "       [ 1237.489525,  1250.244775,  1227.058475, ...,   -81.5325  ,\n",
       "         -110.499675,   -55.222525],\n",
       "       [ 1220.456225,  1227.058475,  1222.145775, ...,   -79.0825  ,\n",
       "         -114.060575,   -67.653225],\n",
       "       ..., \n",
       "       [  -69.8075  ,   -81.5325  ,   -79.0825  , ...,  1894.      ,\n",
       "         1865.0575  ,  1682.5425  ],\n",
       "       [  -99.755425,  -110.499675,  -114.060575, ...,  1865.0575  ,\n",
       "         1970.238975,  1809.101425],\n",
       "       [  -43.884775,   -55.222525,   -67.653225, ...,  1682.5425  ,\n",
       "         1809.101425,  1888.737775]])"
      ]
     },
     "execution_count": 17,
     "metadata": {},
     "output_type": "execute_result"
    }
   ],
   "source": [
    "covMatrix = np.cov(centeredTrainingData.T, bias =True)\n",
    "covMatrix"
   ]
  },
  {
   "cell_type": "code",
   "execution_count": 19,
   "metadata": {
    "collapsed": false
   },
   "outputs": [
    {
     "name": "stdout",
     "output_type": "stream",
     "text": [
      "eigenvalues\n",
      "[ -5.54795470e-10  -4.81218198e-10  -4.23120631e-10 ...,   1.14824189e+06\n",
      "   2.01725036e+06   2.89336806e+06]\n",
      " \n",
      "eigenvectors\n",
      "[[ 0.          0.          0.         ...,  0.02055771  0.01361156\n",
      "  -0.00281623]\n",
      " [-0.54555636  0.0476626   0.27946333 ...,  0.02051844  0.01372372\n",
      "  -0.00278538]\n",
      " [ 0.00899758  0.00788202  0.0160391  ...,  0.02030213  0.01375542\n",
      "  -0.00255135]\n",
      " ..., \n",
      " [ 0.00714923  0.00300581 -0.00618886 ...,  0.01558413 -0.01151936\n",
      "  -0.0054346 ]\n",
      " [ 0.00292613 -0.00216155  0.00639018 ...,  0.01481205 -0.01183526\n",
      "  -0.00555782]\n",
      " [ 0.00788795 -0.00268569 -0.0008333  ...,  0.0152495  -0.01087738\n",
      "  -0.00628804]]\n"
     ]
    }
   ],
   "source": [
    "eigenvalues, eigenvectors = np.linalg.eigh(covMatrix)"
   ]
  },
  {
   "cell_type": "code",
   "execution_count": 24,
   "metadata": {
    "collapsed": false
   },
   "outputs": [
    {
     "name": "stdout",
     "output_type": "stream",
     "text": [
      "10304\n"
     ]
    }
   ],
   "source": [
    "#print('eigenvalues')\n",
    "#print (eigenvalues)\n",
    "#print(' ')\n",
    "#print('eigenvectors')\n",
    "#print (eigenvectors)\n",
    "#print(len(eigenvalues))\n",
    "#print(len(eigenvectors[:,0]))"
   ]
  },
  {
   "cell_type": "code",
   "execution_count": 26,
   "metadata": {
    "collapsed": false
   },
   "outputs": [
    {
     "data": {
      "text/plain": [
       "16008954.48435"
      ]
     },
     "execution_count": 26,
     "metadata": {},
     "output_type": "execute_result"
    }
   ],
   "source": [
    "totalVariance = covMatrix.trace()\n",
    "totalVariance"
   ]
  },
  {
   "cell_type": "code",
   "execution_count": 141,
   "metadata": {
    "collapsed": false
   },
   "outputs": [],
   "source": [
    "def getPCAAccuracy(alpha):\n",
    "    eigenvaluesSum = 0\n",
    "    eigenvaluesIndex = len(eigenvalues) - 1\n",
    "    while((eigenvaluesSum / totalVariance) < alpha):\n",
    "        eigenvaluesSum += eigenvalues[eigenvaluesIndex]\n",
    "        eigenvaluesIndex -= 1\n",
    "    \n",
    "    \n",
    "    #eigenvaluesIndex\n",
    "    projectionMatrix = eigenvectors[:,eigenvaluesIndex:10303]\n",
    "    projectionMatrix\n",
    "    #print(len(projectionMatrix[:,0]))\n",
    "\n",
    "\n",
    "    ProjectedTrainingDataMatrix = np.matmul(centeredTrainingData, projectionMatrix)\n",
    "    centeredTestData = testData - meanVector\n",
    "    ProjectedTestDataMatrix = np.matmul(centeredTestData, projectionMatrix)\n",
    "\n",
    "    #print(len(ProjectedTrainingDataMatrix[:,0]))\n",
    "    #print('')\n",
    "    #print(ProjectedTestDataMatrix[0])\n",
    "\n",
    "\n",
    "    from sklearn.neighbors import KDTree\n",
    "    tree = KDTree(ProjectedTrainingDataMatrix, leaf_size=10)\n",
    "\n",
    "\n",
    "\n",
    "    dist, firstNNindexs = tree.query(ProjectedTestDataMatrix, k=1)\n",
    "    hits = 0\n",
    "    for i in range(200):\n",
    "        #print('test instance label : ',testDataLabelVector[i])\n",
    "        #print('nearest training instance label : ',trainingDataLabelVector[firstNNindexs[i][0]])\n",
    "        if(testDataLabelVector[i] == trainingDataLabelVector[firstNNindexs[i][0]]):\n",
    "            hits += 1\n",
    "    print('For Alpha = ' + str(alpha) + ', Acuuracy = ' + str((hits/200.0)*100) + '%')"
   ]
  },
  {
   "cell_type": "code",
   "execution_count": 142,
   "metadata": {
    "collapsed": false
   },
   "outputs": [
    {
     "name": "stdout",
     "output_type": "stream",
     "text": [
      "For Alpha = 0.8, Acuuracy = 93.5%\n",
      "For Alpha = 0.85, Acuuracy = 93.0%\n",
      "For Alpha = 0.9, Acuuracy = 92.0%\n",
      "For Alpha = 0.95, Acuuracy = 91.5%\n"
     ]
    }
   ],
   "source": [
    "alpha = [0.8, 0.85, 0.9, 0.95]\n",
    "for i in alpha:\n",
    "    getPCAAccuracy(i)"
   ]
  },
  {
   "cell_type": "markdown",
   "metadata": {},
   "source": [
    "The greater the alpha the less accuracy"
   ]
  },
  {
   "cell_type": "code",
   "execution_count": null,
   "metadata": {
    "collapsed": true
   },
   "outputs": [],
   "source": []
  }
 ],
 "metadata": {
  "kernelspec": {
   "display_name": "Python 2",
   "language": "python",
   "name": "python2"
  },
  "language_info": {
   "codemirror_mode": {
    "name": "ipython",
    "version": 2
   },
   "file_extension": ".py",
   "mimetype": "text/x-python",
   "name": "python",
   "nbconvert_exporter": "python",
   "pygments_lexer": "ipython2",
   "version": "2.7.13"
  }
 },
 "nbformat": 4,
 "nbformat_minor": 0
}
