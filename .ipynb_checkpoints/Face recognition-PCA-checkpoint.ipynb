{
 "cells": [
  {
   "cell_type": "code",
   "execution_count": 1,
   "metadata": {
    "collapsed": true
   },
   "outputs": [],
   "source": [
    "import scipy.ndimage\n",
    "import numpy as np\n",
    "from sklearn.neighbors import KNeighborsClassifier\n",
    "from sklearn.metrics import accuracy_score\n",
    "import matplotlib.pyplot as plt\n",
    "%matplotlib inline"
   ]
  },
  {
   "cell_type": "markdown",
   "metadata": {},
   "source": [
    "# Load Data Matrix"
   ]
  },
  {
   "cell_type": "code",
   "execution_count": 2,
   "metadata": {
    "collapsed": false
   },
   "outputs": [],
   "source": [
    "data_matrix = [0] * 10304\n",
    "for i in range(40):\n",
    "    for j in range(10):\n",
    "        image_matrix = scipy.ndimage.imread('E:/TERM/TERM8/Pattern Recognition/Assignments/Assignments1/orl_faces/s' + str(i+1)+'/' +\n",
    "                                 str(j+1) +'.pgm',flatten=False, mode=None)\n",
    "        image_pixels_vector = np.asarray(image_matrix).reshape(-1)\n",
    "        data_matrix = np.vstack([data_matrix, image_pixels_vector])"
   ]
  },
  {
   "cell_type": "code",
   "execution_count": 3,
   "metadata": {
    "collapsed": false
   },
   "outputs": [
    {
     "name": "stdout",
     "output_type": "stream",
     "text": [
      "400\n"
     ]
    }
   ],
   "source": [
    "data_matrix = data_matrix[1:,0:]\n",
    "print(len(data_matrix[:,0]))"
   ]
  },
  {
   "cell_type": "markdown",
   "metadata": {},
   "source": [
    "# Create Label Vector"
   ]
  },
  {
   "cell_type": "code",
   "execution_count": 4,
   "metadata": {
    "collapsed": false
   },
   "outputs": [
    {
     "name": "stdout",
     "output_type": "stream",
     "text": [
      "400\n"
     ]
    }
   ],
   "source": [
    "data_labels = []\n",
    "for i in range(40):\n",
    "    for j in range (10):\n",
    "        data_labels.append(i+1)\n",
    "print(len(data_labels))"
   ]
  },
  {
   "cell_type": "code",
   "execution_count": 5,
   "metadata": {
    "collapsed": false
   },
   "outputs": [],
   "source": [
    "# used to build the KNN classifier according to the number of nearest neighbors\n",
    "def KNN(training_data_proj, test_data_proj, training_data_labels, test_data_labels, k):\n",
    "    \n",
    "    # satisfy the number of neighbors for the classifier\n",
    "    knn_classifier = KNeighborsClassifier(n_neighbors = k)\n",
    "    \n",
    "    # build the classifier using the training data and their label\n",
    "    knn_classifier.fit(training_data_proj, training_data_labels)\n",
    "    \n",
    "    # predict the labels of the test data using the knn classifier\n",
    "    predicted_labels = knn_classifier.predict(test_data_proj)\n",
    "    \n",
    "    # calculate the accuracy of the classifier\n",
    "    accurancy_measurment =  accuracy_score(test_data_labels, predicted_labels)\n",
    "    return accurancy_measurment"
   ]
  },
  {
   "cell_type": "code",
   "execution_count": 6,
   "metadata": {
    "collapsed": true
   },
   "outputs": [],
   "source": [
    "def cov_matrix_total_variance(training_data):\n",
    "    # calculate the mean vector of training data\n",
    "    training_data_mean = np.mean(training_data,axis=0)\n",
    "    \n",
    "    # center the training data by letting the mean the original point \n",
    "    centered_training_data = training_data - training_data_mean\n",
    "    \n",
    "    # calculate the covariance matrix of training data and the total variance\n",
    "    cov_matrix = np.cov(centered_training_data.T, bias =True)\n",
    "    total_variance = cov_matrix.trace()\n",
    "    return cov_matrix, total_variance"
   ]
  },
  {
   "cell_type": "code",
   "execution_count": 7,
   "metadata": {
    "collapsed": false
   },
   "outputs": [],
   "source": [
    "def PCA_cov_matrix_eigen_values_vectors (cov_matrix):\n",
    "    \n",
    "    # calculate the eigenvalues and eigenvectors for covariance matrix sorted by the eigenvalues ascending\n",
    "    eigen_values, eigen_vectors = np.linalg.eigh(cov_matrix)\n",
    "    return eigen_values, eigen_vectors"
   ]
  },
  {
   "cell_type": "code",
   "execution_count": 8,
   "metadata": {
    "collapsed": true
   },
   "outputs": [],
   "source": [
    "# used to return the coordinates of the training and test data on the new dimensions according to alpha\n",
    "def PCA_projection_matrix (eigen_values, eigen_vectors, total_variance, alpha):\n",
    "    \n",
    "    # choose the new dimensions (eigenvectors) according to alpha where summation of eigenvalues of the chosen eigenvectors > alpha\n",
    "    eigen_values_sum = 0\n",
    "    eigen_values_index = len(eigen_values) - 1\n",
    "    while((eigen_values_sum / total_variance) < alpha):\n",
    "        eigen_values_sum += eigen_values[eigen_values_index]\n",
    "        eigen_values_index -= 1\n",
    "    \n",
    "    \n",
    "    projection_matrix = eigen_vectors[:,eigen_values_index:]\n",
    "    return projection_matrix"
   ]
  },
  {
   "cell_type": "code",
   "execution_count": 9,
   "metadata": {
    "collapsed": true
   },
   "outputs": [],
   "source": [
    "def PCA_data_projection(training_data, test_data, projection_matrix):\n",
    "    # project the training and test data on the new dimensions\n",
    "    training_data_proj = np.matmul(training_data, projection_matrix)\n",
    "    test_data_proj = np.matmul(test_data, projection_matrix)\n",
    "    return training_data_proj, test_data_proj"
   ]
  },
  {
   "cell_type": "code",
   "execution_count": 10,
   "metadata": {
    "collapsed": true
   },
   "outputs": [],
   "source": [
    "def split_50_50 ():\n",
    "    training_data = data_matrix[0]\n",
    "    test_data = data_matrix[1]\n",
    "    training_data_labels = []\n",
    "    test_data_labels = []\n",
    "\n",
    "    training_data_labels.append(data_labels[0])\n",
    "    test_data_labels.append(data_labels[1])\n",
    "    index = 2 \n",
    "    while(index < len(data_matrix[:,0])):\n",
    "        if(index % 2 == 0):\n",
    "            training_data = np.vstack([training_data, data_matrix[index]])\n",
    "            training_data_labels.append(data_labels[index])\n",
    "        else:\n",
    "            test_data = np.vstack([test_data, data_matrix[index]])\n",
    "            test_data_labels.append(data_labels[index])\n",
    "        index += 1\n",
    "    return training_data, test_data, training_data_labels, test_data_labels"
   ]
  },
  {
   "cell_type": "code",
   "execution_count": 11,
   "metadata": {
    "collapsed": true
   },
   "outputs": [],
   "source": [
    "def split_70_30 ():\n",
    "    training_data = [0] * len(data_matrix[0])\n",
    "    training_data_labels = []\n",
    "    test_data = [0] * len(data_matrix[0])\n",
    "    test_data_labels = []\n",
    "    for i in range(40):\n",
    "        for j in range(7):\n",
    "            training_data = np.vstack([training_data, data_matrix[i*10 + j]])\n",
    "            training_data_labels.append(data_labels[i*10 + j])\n",
    "        for k in range(3):\n",
    "            test_data = np.vstack([test_data, data_matrix[i*10 + 7 + k]])\n",
    "            test_data_labels.append(data_labels[i*10 + 7 + k])\n",
    "\n",
    "    training_data = training_data[1:,0:]\n",
    "    test_data = test_data[1:,0:]\n",
    "    return training_data, test_data, training_data_labels, test_data_labels"
   ]
  },
  {
   "cell_type": "markdown",
   "metadata": {},
   "source": [
    "# PCA Classification using 50% Training Data & 50% Test Data"
   ]
  },
  {
   "cell_type": "code",
   "execution_count": 46,
   "metadata": {
    "collapsed": false
   },
   "outputs": [],
   "source": [
    "#split data matrix 50% for training data & 50% for test data\n",
    "training_data, test_data, training_data_labels, test_data_labels = split_50_50()\n",
    "\n",
    "#calculate training data covariance matrix and total variance\n",
    "cov_matrix, total_variance = cov_matrix_total_variance(training_data)\n",
    "\n",
    "#calculate training data covariance matrix eigenvalues & eigenvectors\n",
    "eigen_values, eigen_vectors = PCA_cov_matrix_eigen_values_vectors(cov_matrix)"
   ]
  },
  {
   "cell_type": "code",
   "execution_count": 51,
   "metadata": {
    "collapsed": false
   },
   "outputs": [
    {
     "name": "stdout",
     "output_type": "stream",
     "text": [
      "For Alpha = 0.8, Acuuracy = 95.0%\n",
      "For Alpha = 0.85, Acuuracy = 95.0%\n",
      "For Alpha = 0.9, Acuuracy = 94.0%\n",
      "For Alpha = 0.95, Acuuracy = 94.0%\n"
     ]
    }
   ],
   "source": [
    "alpha = [0.8, 0.85, 0.9, 0.95]\n",
    "score_list = []\n",
    "# for each alpha, choose the new dimensions then evaluate the First nearest neighbor classifier on the modified data \n",
    "for i in alpha:\n",
    "    projection_matrix = PCA_projection_matrix (eigen_values, eigen_vectors,total_variance, i)\n",
    "    training_data_proj, test_data_proj = PCA_data_projection(training_data, test_data, projection_matrix)\n",
    "    score = KNN(training_data_proj, test_data_proj, training_data_labels, test_data_labels,1)\n",
    "    score_list.append(score * 100)\n",
    "    print('For Alpha = ' + str(i) + ', Acuuracy = ' + str(score*100) + '%')"
   ]
  },
  {
   "cell_type": "code",
   "execution_count": 56,
   "metadata": {
    "collapsed": false
   },
   "outputs": [
    {
     "data": {
      "image/png": "[encoded data removed]",
      "text/plain": [
       "<matplotlib.figure.Figure at 0xa2f5390>"
      ]
     },
     "metadata": {},
     "output_type": "display_data"
    }
   ],
   "source": [
    "accuracy_bar = plt.bar(alpha, score_list, 0.025, align = 'center')\n",
    "# Add counts above the bar graphs\n",
    "for rect in accuracy_bar:\n",
    "    height = rect.get_height()\n",
    "    plt.text(rect.get_x() + rect.get_width()/2.0, height, '%0.2f' % int(height), ha='center', va='bottom')\n",
    "plt.xlabel(\"k values\")\n",
    "plt.ylabel(\"Accuracy\")\n",
    "plt.show()"
   ]
  },
  {
   "cell_type": "markdown",
   "metadata": {},
   "source": [
    "# PCA Classifier Tuning"
   ]
  },
  {
   "cell_type": "code",
   "execution_count": 53,
   "metadata": {
    "collapsed": false
   },
   "outputs": [
    {
     "data": {
      "text/plain": [
       "[94.0, 89.0, 84.5, 77.0]"
      ]
     },
     "execution_count": 53,
     "metadata": {},
     "output_type": "execute_result"
    }
   ],
   "source": [
    "projection_matrix = PCA_projection_matrix (eigen_values, eigen_vectors,total_variance, 0.9)\n",
    "training_data_proj, test_data_proj = PCA_data_projection(training_data, test_data, projection_matrix)\n",
    "knn = [1, 3, 5, 7]\n",
    "score = []\n",
    "for k in knn:\n",
    "    score.append(KNN(training_data_proj, test_data_proj, training_data_labels, test_data_labels,k) * 100)\n",
    "score"
   ]
  },
  {
   "cell_type": "code",
   "execution_count": 55,
   "metadata": {
    "collapsed": false
   },
   "outputs": [
    {
     "data": {
      "image/png": "[encoded data removed]",
      "text/plain": [
       "<matplotlib.figure.Figure at 0x15f13668>"
      ]
     },
     "metadata": {},
     "output_type": "display_data"
    }
   ],
   "source": [
    "accuracy_bar = plt.bar(knn, score, align = 'center')\n",
    "# Add counts above the bar graphs\n",
    "for rect in accuracy_bar:\n",
    "    height = rect.get_height()\n",
    "    plt.text(rect.get_x() + rect.get_width()/2.0, height, '%0.2f' % int(height), ha='center', va='bottom')\n",
    "plt.xlabel(\"k values\")\n",
    "plt.ylabel(\"Accuracy\")\n",
    "plt.title(\"Classifier Tuning\")\n",
    "plt.show()"
   ]
  },
  {
   "cell_type": "markdown",
   "metadata": {},
   "source": [
    "# PCA Classification using 70% Training Data & 30% Test Data"
   ]
  },
  {
   "cell_type": "code",
   "execution_count": 57,
   "metadata": {
    "collapsed": true
   },
   "outputs": [],
   "source": [
    "#split data matrix 70% for training data & 30% for test data\n",
    "training_data, test_data, training_data_labels, test_data_labels = split_70_30()\n",
    "\n",
    "#calculate training data covariance matrix and total variance\n",
    "cov_matrix, total_variance = cov_matrix_total_variance(training_data)\n",
    "\n",
    "#calculate training data covariance matrix eigenvalues & eigenvectors\n",
    "eigen_values, eigen_vectors = PCA_cov_matrix_eigen_values_vectors(cov_matrix)"
   ]
  },
  {
   "cell_type": "code",
   "execution_count": 58,
   "metadata": {
    "collapsed": false
   },
   "outputs": [
    {
     "name": "stdout",
     "output_type": "stream",
     "text": [
      "For Alpha = 0.8, Acuuracy = 95.8333333333%\n",
      "For Alpha = 0.85, Acuuracy = 96.6666666667%\n",
      "For Alpha = 0.9, Acuuracy = 95.8333333333%\n",
      "For Alpha = 0.95, Acuuracy = 95.0%\n"
     ]
    }
   ],
   "source": [
    "alpha = [0.8, 0.85, 0.9, 0.95]\n",
    "score_list = []\n",
    "# for each alpha, choose the new dimensions then evaluate the First nearest neighbor classifier on the modified data \n",
    "for i in alpha:\n",
    "    projection_matrix = PCA_projection_matrix (eigen_values, eigen_vectors,total_variance, i)\n",
    "    training_data_proj, test_data_proj = PCA_data_projection(training_data, test_data, projection_matrix)\n",
    "    score = KNN(training_data_proj, test_data_proj, training_data_labels, test_data_labels,1)\n",
    "    score_list.append(score * 100)\n",
    "    print('For Alpha = ' + str(i) + ', Acuuracy = ' + str(score*100) + '%')"
   ]
  },
  {
   "cell_type": "code",
   "execution_count": 68,
   "metadata": {
    "collapsed": false
   },
   "outputs": [
    {
     "data": {
      "image/png": "[encoded data removed]",
      "text/plain": [
       "<matplotlib.figure.Figure at 0xa4c7668>"
      ]
     },
     "metadata": {},
     "output_type": "display_data"
    }
   ],
   "source": [
    "accuracy_bar = plt.bar(alpha, score_list, 0.025, align = 'center')\n",
    "# Add counts above the bar graphs\n",
    "for rect in accuracy_bar:\n",
    "    height = rect.get_height()\n",
    "    plt.text(rect.get_x() + rect.get_width()/2.0, height, '%0.2f' % int(height), ha='center', va='bottom')\n",
    "plt.xlabel(\"k values\")\n",
    "plt.ylabel(\"Accuracy\")\n",
    "\n",
    "axes = plt.gca()\n",
    "axes.set_ylim([0,120])\n",
    "\n",
    "plt.show()"
   ]
  },
  {
   "cell_type": "code",
   "execution_count": 71,
   "metadata": {
    "collapsed": false
   },
   "outputs": [
    {
     "data": {
      "text/plain": [
       "[95.833333333333343, 91.666666666666657, 89.166666666666671, 85.0]"
      ]
     },
     "execution_count": 71,
     "metadata": {},
     "output_type": "execute_result"
    }
   ],
   "source": [
    "projection_matrix = PCA_projection_matrix (eigen_values, eigen_vectors,total_variance, 0.9)\n",
    "training_data_proj, test_data_proj = PCA_data_projection(training_data, test_data, projection_matrix)\n",
    "knn = [1, 3, 5, 7]\n",
    "score = []\n",
    "for k in knn:\n",
    "    score.append(KNN(training_data_proj, test_data_proj, training_data_labels, test_data_labels,k) * 100.0)\n",
    "score"
   ]
  },
  {
   "cell_type": "code",
   "execution_count": 73,
   "metadata": {
    "collapsed": false
   },
   "outputs": [
    {
     "data": {
      "image/png": "[encoded data removed]",
      "text/plain": [
       "<matplotlib.figure.Figure at 0x89e78d0>"
      ]
     },
     "metadata": {},
     "output_type": "display_data"
    }
   ],
   "source": [
    "accuracy_bar = plt.bar(knn, score, align = 'center')\n",
    "# Add counts above the bar graphs\n",
    "for rect in accuracy_bar:\n",
    "    height = rect.get_height()\n",
    "    plt.text(rect.get_x() + rect.get_width()/2.0, height, '%0.2f' % int(height), ha='center', va='bottom')\n",
    "plt.xlabel(\"k values\")\n",
    "plt.ylabel(\"Accuracy\")\n",
    "plt.title(\"Classifier Tuning\")\n",
    "\n",
    "axes = plt.gca()\n",
    "axes.set_ylim([0,120])\n",
    "plt.show()"
   ]
  },
  {
   "cell_type": "code",
   "execution_count": null,
   "metadata": {
    "collapsed": true
   },
   "outputs": [],
   "source": []
  }
 ],
 "metadata": {
  "kernelspec": {
   "display_name": "Python 2",
   "language": "python",
   "name": "python2"
  },
  "language_info": {
   "codemirror_mode": {
    "name": "ipython",
    "version": 2
   },
   "file_extension": ".py",
   "mimetype": "text/x-python",
   "name": "python",
   "nbconvert_exporter": "python",
   "pygments_lexer": "ipython2",
   "version": "2.7.13"
  }
 },
 "nbformat": 4,
 "nbformat_minor": 0
}
